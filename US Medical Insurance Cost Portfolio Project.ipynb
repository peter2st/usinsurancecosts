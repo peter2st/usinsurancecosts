{
 "cells": [
  {
   "cell_type": "markdown",
   "metadata": {},
   "source": [
    "# U.S. Medical Insurance Costs"
   ]
  },
  {
   "cell_type": "markdown",
   "metadata": {},
   "source": [
    "Import pandas and numpy to make working with the data easier. \n",
    "Import the csv file into a pandas DataFrame."
   ]
  },
  {
   "cell_type": "code",
   "execution_count": 1,
   "metadata": {},
   "outputs": [],
   "source": [
    "import pandas as pd\n",
    "import numpy as np\n",
    "from scipy.stats import chi2_contingency as chi2, ttest_ind\n",
    "df = pd.DataFrame(pd.read_csv('C:/Users/scott/Desktop/Programming Stuff/Python Stuff/US Medical Insurance Portfolio Project/python-portfolio-project-starter-files/insurance.csv'))\n"
   ]
  },
  {
   "cell_type": "markdown",
   "metadata": {},
   "source": [
    "Let's read the first few lines of the data so we can understand what we're working with."
   ]
  },
  {
   "cell_type": "code",
   "execution_count": 2,
   "metadata": {},
   "outputs": [
    {
     "name": "stdout",
     "output_type": "stream",
     "text": [
      "   age     sex     bmi  children smoker     region      charges\n",
      "0   19  female  27.900         0    yes  southwest  16884.92400\n",
      "1   18    male  33.770         1     no  southeast   1725.55230\n",
      "2   28    male  33.000         3     no  southeast   4449.46200\n",
      "3   33    male  22.705         0     no  northwest  21984.47061\n",
      "4   32    male  28.880         0     no  northwest   3866.85520\n",
      "<class 'pandas.core.frame.DataFrame'>\n",
      "RangeIndex: 1338 entries, 0 to 1337\n",
      "Data columns (total 7 columns):\n",
      " #   Column    Non-Null Count  Dtype  \n",
      "---  ------    --------------  -----  \n",
      " 0   age       1338 non-null   int64  \n",
      " 1   sex       1338 non-null   object \n",
      " 2   bmi       1338 non-null   float64\n",
      " 3   children  1338 non-null   int64  \n",
      " 4   smoker    1338 non-null   object \n",
      " 5   region    1338 non-null   object \n",
      " 6   charges   1338 non-null   float64\n",
      "dtypes: float64(2), int64(2), object(3)\n",
      "memory usage: 73.3+ KB\n"
     ]
    }
   ],
   "source": [
    "print(df.head())\n",
    "df.info()"
   ]
  },
  {
   "cell_type": "markdown",
   "metadata": {},
   "source": [
    "So we have 1338 different entries/people. \n",
    "5 columns of different data types."
   ]
  },
  {
   "cell_type": "markdown",
   "metadata": {},
   "source": [
    "## Goals:\n",
    "\n",
    "##### - What's the average charges for men and women?\n",
    "##### - What's the average age of people with children?\n",
    "##### - Which region do most people come from? \n",
    "##### - On average how much more do smokers pay for insurance?\n",
    "##### - Is there a correlation between non-smokers and children?"
   ]
  },
  {
   "cell_type": "markdown",
   "metadata": {},
   "source": [
    "### First, let's start with averages for men and women and see how different they are.\n",
    "I want to begin by making two new DataFrames: one with only men and one with only women."
   ]
  },
  {
   "cell_type": "code",
   "execution_count": 3,
   "metadata": {},
   "outputs": [
    {
     "name": "stdout",
     "output_type": "stream",
     "text": [
      "   index  age   sex     bmi  children smoker     region      charges\n",
      "0      1   18  male  33.770         1     no  southeast   1725.55230\n",
      "1      2   28  male  33.000         3     no  southeast   4449.46200\n",
      "2      3   33  male  22.705         0     no  northwest  21984.47061\n",
      "3      4   32  male  28.880         0     no  northwest   3866.85520\n",
      "4      8   37  male  29.830         2     no  northeast   6406.41070\n",
      "   index  age     sex    bmi  children smoker     region      charges\n",
      "0      0   19  female  27.90         0    yes  southwest  16884.92400\n",
      "1      5   31  female  25.74         0     no  southeast   3756.62160\n",
      "2      6   46  female  33.44         1     no  southeast   8240.58960\n",
      "3      7   37  female  27.74         3     no  northwest   7281.50560\n",
      "4      9   60  female  25.84         0     no  northwest  28923.13692\n"
     ]
    }
   ],
   "source": [
    "male_df = df[(df.sex == 'male')].reset_index()\n",
    "female_df = df[(df.sex == 'female')].reset_index()\n",
    "print(male_df.head())\n",
    "print(female_df.head())"
   ]
  },
  {
   "cell_type": "markdown",
   "metadata": {},
   "source": [
    "Now we can easily crunch numbers on men and women separately."
   ]
  },
  {
   "cell_type": "code",
   "execution_count": 4,
   "metadata": {},
   "outputs": [
    {
     "name": "stdout",
     "output_type": "stream",
     "text": [
      "12569.57884383534 13956.751177721886\n"
     ]
    }
   ],
   "source": [
    "female_charges_avg = np.mean(female_df.charges)\n",
    "male_charges_avg = np.mean(male_df.charges)\n",
    "\n",
    "print(female_charges_avg, male_charges_avg)"
   ]
  },
  {
   "cell_type": "markdown",
   "metadata": {},
   "source": [
    "So we can see that men pay about $1400 more than women on average.\n",
    "What I really want to know is whether or not this is statistically significant or if this is just random chance based on the people we have.\n",
    "\n",
    "We're going to run an Independent T-Test to determine this. We're using an Independent T-Test because we are comparing the averages of two different quantitative groups."
   ]
  },
  {
   "cell_type": "code",
   "execution_count": 5,
   "metadata": {},
   "outputs": [
    {
     "data": {
      "text/plain": [
       "Ttest_indResult(statistic=-2.097546590051688, pvalue=0.03613272100592976)"
      ]
     },
     "execution_count": 5,
     "metadata": {},
     "output_type": "execute_result"
    }
   ],
   "source": [
    "ttest_ind(female_df.charges, male_df.charges)"
   ]
  },
  {
   "cell_type": "markdown",
   "metadata": {},
   "source": [
    "A p-value of .036 tells us that this disparity in averages prices is **not** due to random chance and that men truly are charged more than women; at least on average. We technically don't know what the equation is to calculate these costs, but we can feel confident that men are truly charged more."
   ]
  },
  {
   "cell_type": "markdown",
   "metadata": {},
   "source": [
    "### Now, let's see what the average age is for people who have children and those who don't have children\n",
    "To do this, we will make a DF including *only* people who have children."
   ]
  },
  {
   "cell_type": "code",
   "execution_count": 6,
   "metadata": {},
   "outputs": [
    {
     "name": "stdout",
     "output_type": "stream",
     "text": [
      "   age     sex    bmi  children smoker     region    charges\n",
      "1   18    male  33.77         1     no  southeast  1725.5523\n",
      "2   28    male  33.00         3     no  southeast  4449.4620\n",
      "6   46  female  33.44         1     no  southeast  8240.5896\n",
      "7   37  female  27.74         3     no  northwest  7281.5056\n",
      "8   37    male  29.83         2     no  northeast  6406.4107\n",
      "39.78010471204188 38.444250871080136\n"
     ]
    }
   ],
   "source": [
    "children_df = df[(df.children != 0)]\n",
    "print(children_df.head())\n",
    "\n",
    "no_children_df = df[(df.children == 0)]\n",
    "\n",
    "average_age_parents = np.mean(children_df.age)\n",
    "average_age_not_parents = np.mean(no_children_df.age)\n",
    "print(average_age_parents, average_age_not_parents)"
   ]
  },
  {
   "cell_type": "markdown",
   "metadata": {},
   "source": [
    "The averages are very close. Once again, let's see if there's any significance to this. Are parents, on average, older than those who do not have children?"
   ]
  },
  {
   "cell_type": "code",
   "execution_count": 7,
   "metadata": {},
   "outputs": [
    {
     "data": {
      "text/plain": [
       "Ttest_indResult(statistic=1.7225732067376982, pvalue=0.08519715637989463)"
      ]
     },
     "execution_count": 7,
     "metadata": {},
     "output_type": "execute_result"
    }
   ],
   "source": [
    "ttest_ind(children_df.age, no_children_df.age)"
   ]
  },
  {
   "cell_type": "markdown",
   "metadata": {},
   "source": [
    "With a p-value of .085 we can conclude that there is most likely *no* significance in the age gap between people with kids and people without kids."
   ]
  },
  {
   "cell_type": "markdown",
   "metadata": {},
   "source": [
    "### Let's now find out how many people come from each region. We will put this in a DataFrame that we will be able to easily reference to the different regions."
   ]
  },
  {
   "cell_type": "code",
   "execution_count": 8,
   "metadata": {},
   "outputs": [
    {
     "name": "stdout",
     "output_type": "stream",
     "text": [
      "      region  count\n",
      "0  northeast    324\n",
      "1  northwest    325\n",
      "2  southeast    364\n",
      "3  southwest    325\n"
     ]
    }
   ],
   "source": [
    "region_group = df.groupby('region').age.count().reset_index()\n",
    "region_group.rename(columns = {'age': 'count'}, inplace = True)\n",
    "print(region_group)"
   ]
  },
  {
   "cell_type": "markdown",
   "metadata": {},
   "source": [
    "### How much more, on average, do people who smoke pay for insurance.\n",
    "First, we'll put smokers and non-smokers into two different DataFrames"
   ]
  },
  {
   "cell_type": "code",
   "execution_count": 13,
   "metadata": {},
   "outputs": [
    {
     "name": "stdout",
     "output_type": "stream",
     "text": [
      "   index  age     sex    bmi  children smoker     region     charges\n",
      "0      0   19  female  27.90         0    yes  southwest  16884.9240\n",
      "1     11   62  female  26.29         0    yes  southeast  27808.7251\n",
      "2     14   27    male  42.13         0    yes  southeast  39611.7577\n",
      "3     19   30    male  35.30         0    yes  southwest  36837.4670\n",
      "4     23   34  female  31.92         1    yes  northeast  37701.8768\n",
      "   index  age     sex     bmi  children smoker     region      charges\n",
      "0      1   18    male  33.770         1     no  southeast   1725.55230\n",
      "1      2   28    male  33.000         3     no  southeast   4449.46200\n",
      "2      3   33    male  22.705         0     no  northwest  21984.47061\n",
      "3      4   32    male  28.880         0     no  northwest   3866.85520\n",
      "4      5   31  female  25.740         0     no  southeast   3756.62160\n"
     ]
    }
   ],
   "source": [
    "df_smokers = df[(df.smoker == 'yes')].reset_index()\n",
    "df_nonsmoker = df[(df.smoker == 'no')].reset_index()\n",
    "print(df_smokers.head())\n",
    "print(df_nonsmoker.head())"
   ]
  },
  {
   "cell_type": "markdown",
   "metadata": {},
   "source": [
    "Now that we have our two groups, let's crunch the numbers and see how much more smokers pay on average."
   ]
  },
  {
   "cell_type": "code",
   "execution_count": 16,
   "metadata": {},
   "outputs": [
    {
     "name": "stdout",
     "output_type": "stream",
     "text": [
      "32050.23183153285 8434.268297856199 23615.96353367665\n"
     ]
    }
   ],
   "source": [
    "smokers_avg = np.mean(df_smokers.charges)\n",
    "nonsmoker_avg = np.mean(df_nonsmoker.charges)\n",
    "print(smokers_avg, nonsmoker_avg, (smokers_avg - nonsmoker_avg))"
   ]
  },
  {
   "cell_type": "markdown",
   "metadata": {},
   "source": [
    "As predicted, smokers pay on average $23616 more than non-smokers."
   ]
  },
  {
   "cell_type": "markdown",
   "metadata": {},
   "source": [
    "### Now, let's see if there's a correlation between number of children and smokers\n",
    "We already have our two groups of smokers and non-smokers, so we can save time there.\n",
    "Our first task will be to plot the smokers and number of children on a plot to see if we can immediately see a difference."
   ]
  },
  {
   "cell_type": "code",
   "execution_count": 27,
   "metadata": {},
   "outputs": [
    {
     "data": {
      "image/png": "[encoded data removed]",
      "text/plain": [
       "<Figure size 432x288 with 1 Axes>"
      ]
     },
     "metadata": {
      "needs_background": "light"
     },
     "output_type": "display_data"
    },
    {
     "name": "stdout",
     "output_type": "stream",
     "text": [
      "305 1160\n"
     ]
    }
   ],
   "source": [
    "from matplotlib import pyplot as plt\n",
    "sum_of_smoker = np.sum(df_smokers.children)\n",
    "sum_of_nonsmoker = np.sum(df_nonsmoker.children)\n",
    "plt.bar('Smoker', sum_of_smoker)\n",
    "plt.bar('Non-smoker', sum_of_nonsmoker)\n",
    "plt.ylabel('Number of Children')\n",
    "plt.xlabel('Smoker Status')\n",
    "plt.title('Smoker Status vs. Number of Children')\n",
    "plt.show()\n",
    "print(sum_of_smoker, sum_of_nonsmoker)"
   ]
  },
  {
   "cell_type": "markdown",
   "metadata": {},
   "source": [
    "As we can see, there is a massive variance -- of nearly 4x higher -- number of children between smokers and non-smokers. "
   ]
  },
  {
   "cell_type": "markdown",
   "metadata": {},
   "source": [
    "### Let's graph smoker status and BMI on a similar graph and see if we can see a difference"
   ]
  },
  {
   "cell_type": "code",
   "execution_count": 28,
   "metadata": {},
   "outputs": [
    {
     "data": {
      "image/png": "[encoded data removed]",
      "text/plain": [
       "<Figure size 432x288 with 1 Axes>"
      ]
     },
     "metadata": {
      "needs_background": "light"
     },
     "output_type": "display_data"
    },
    {
     "name": "stdout",
     "output_type": "stream",
     "text": [
      "30.708448905109503 30.651795112781922\n"
     ]
    }
   ],
   "source": [
    "bmi_avg_smoker = np.mean(df_smokers.bmi)\n",
    "bmi_avg_nonsmoker = np.mean(df_nonsmoker.bmi)\n",
    "plt.close()\n",
    "plt.bar('Smoker', bmi_avg_smoker)\n",
    "plt.bar('Non-smoker', bmi_avg_nonsmoker)\n",
    "plt.ylabel('BMI')\n",
    "plt.xlabel('Smoker status')\n",
    "plt.title('Smoker Status vs. BMI')\n",
    "plt.show()\n",
    "print(bmi_avg_smoker, bmi_avg_nonsmoker)"
   ]
  },
  {
   "cell_type": "markdown",
   "metadata": {},
   "source": [
    "As we can see, there is very little difference in BMI between smokers and non-smokers. Let's run a test to see if this .05 difference is significant or not. "
   ]
  },
  {
   "cell_type": "code",
   "execution_count": 29,
   "metadata": {},
   "outputs": [
    {
     "data": {
      "text/plain": [
       "Ttest_indResult(statistic=0.13708403310827058, pvalue=0.8909850280013042)"
      ]
     },
     "execution_count": 29,
     "metadata": {},
     "output_type": "execute_result"
    }
   ],
   "source": [
    "ttest_ind(df_smokers.bmi, df_nonsmoker.bmi)"
   ]
  },
  {
   "cell_type": "markdown",
   "metadata": {},
   "source": [
    "With a p-value of .891 we can confidently say there is no statistical significance between the difference of the BMI of smokers and non-smokers."
   ]
  },
  {
   "cell_type": "code",
   "execution_count": null,
   "metadata": {},
   "outputs": [],
   "source": []
  }
 ],
 "metadata": {
  "kernelspec": {
   "display_name": "Python 3",
   "language": "python",
   "name": "python3"
  },
  "language_info": {
   "codemirror_mode": {
    "name": "ipython",
    "version": 3
   },
   "file_extension": ".py",
   "mimetype": "text/x-python",
   "name": "python",
   "nbconvert_exporter": "python",
   "pygments_lexer": "ipython3",
   "version": "3.8.5"
  }
 },
 "nbformat": 4,
 "nbformat_minor": 4
}
